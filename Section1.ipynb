{
 "cells": [
  {
   "cell_type": "code",
   "execution_count": 105,
   "metadata": {},
   "outputs": [],
   "source": [
    "import pandas as pd\n",
    "import geopandas as gp\n",
    "import glob\n",
    "import os\n",
    "import matplotlib.pylab as plt\n",
    "import seaborn as sns\n",
    "\n",
    "workingFolder = r\"C:\\Users\\a0777676\\OneDrive - Aon\\Desktop\\dataIncubatorTest\\dinsRaster\"\n"
   ]
  },
  {
   "cell_type": "code",
   "execution_count": 211,
   "metadata": {},
   "outputs": [
    {
     "name": "stdout",
     "output_type": "stream",
     "text": [
      "Bear2020+.shp {'init': 'epsg:4326'}\n"
     ]
    },
    {
     "name": "stderr",
     "output_type": "stream",
     "text": [
      "C:\\Users\\a0777676\\AppData\\Local\\Continuum\\anaconda3\\lib\\site-packages\\ipykernel_launcher.py:9: FutureWarning: Sorting because non-concatenation axis is not aligned. A future version\n",
      "of pandas will change to not sort by default.\n",
      "\n",
      "To accept the future behavior, pass 'sort=False'.\n",
      "\n",
      "To retain the current behavior and silence the warning, pass 'sort=True'.\n",
      "\n",
      "  if __name__ == '__main__':\n"
     ]
    },
    {
     "name": "stdout",
     "output_type": "stream",
     "text": [
      "Camp2018.shp {'init': 'epsg:4326'}\n",
      "Kincade2019.shp {'init': 'epsg:4326'}\n",
      "Lake2020.shp {'init': 'epsg:4326'}\n",
      "LNU2020.shp {'init': 'epsg:4326'}\n"
     ]
    }
   ],
   "source": [
    "# importing the DINS data for different fire events\n",
    "\n",
    "os.chdir(workingFolder)\n",
    "dinsfn = glob.glob(\"*.shp\")\n",
    "dins = None\n",
    "for i in range(0, len(dinsfn)):\n",
    "    #print(dinsfn[i])\n",
    "    dinsTemp = gp.GeoDataFrame.from_file(dinsfn[i])\n",
    "    dins = pd.concat([dins, dinsTemp],ignore_index = True)\n",
    "    print(dinsfn[i],dins.crs )\n"
   ]
  },
  {
   "cell_type": "code",
   "execution_count": 218,
   "metadata": {},
   "outputs": [
    {
     "data": {
      "text/html": [
       "<div>\n",
       "<style scoped>\n",
       "    .dataframe tbody tr th:only-of-type {\n",
       "        vertical-align: middle;\n",
       "    }\n",
       "\n",
       "    .dataframe tbody tr th {\n",
       "        vertical-align: top;\n",
       "    }\n",
       "\n",
       "    .dataframe thead th {\n",
       "        text-align: right;\n",
       "    }\n",
       "</style>\n",
       "<table border=\"1\" class=\"dataframe\">\n",
       "  <thead>\n",
       "    <tr style=\"text-align: right;\">\n",
       "      <th></th>\n",
       "      <th>APN</th>\n",
       "      <th>AerialRevi</th>\n",
       "      <th>CALFIREUNI</th>\n",
       "      <th>CITY</th>\n",
       "      <th>CREATEDDAT</th>\n",
       "      <th>County_Sit</th>\n",
       "      <th>DAMAGE</th>\n",
       "      <th>DECKPORCHE</th>\n",
       "      <th>DECKPORCHO</th>\n",
       "      <th>DINS_Damag</th>\n",
       "      <th>...</th>\n",
       "      <th>STRUCTUREC</th>\n",
       "      <th>STRUCTURET</th>\n",
       "      <th>VENTSCREEN</th>\n",
       "      <th>WINDOWPANE</th>\n",
       "      <th>ZIPCODE</th>\n",
       "      <th>geometry</th>\n",
       "      <th>slp</th>\n",
       "      <th>str</th>\n",
       "      <th>whp</th>\n",
       "      <th>damageRatio</th>\n",
       "    </tr>\n",
       "  </thead>\n",
       "  <tbody>\n",
       "    <tr>\n",
       "      <td>0</td>\n",
       "      <td>NaN</td>\n",
       "      <td>NaN</td>\n",
       "      <td>LMU</td>\n",
       "      <td>NA</td>\n",
       "      <td>NaN</td>\n",
       "      <td>NaN</td>\n",
       "      <td>No Damage</td>\n",
       "      <td>No Deck/Porch</td>\n",
       "      <td>Masonry/Concrete</td>\n",
       "      <td>NaN</td>\n",
       "      <td>...</td>\n",
       "      <td>NaN</td>\n",
       "      <td>Commercial Building Single Story</td>\n",
       "      <td>Mesh Screen &lt;= 1/8\"</td>\n",
       "      <td>Single Pane</td>\n",
       "      <td>NaN</td>\n",
       "      <td>POINT (-120.83429 39.92372)</td>\n",
       "      <td>NaN</td>\n",
       "      <td>2.38151</td>\n",
       "      <td>3949</td>\n",
       "      <td>0</td>\n",
       "    </tr>\n",
       "    <tr>\n",
       "      <td>1</td>\n",
       "      <td>NaN</td>\n",
       "      <td>NaN</td>\n",
       "      <td>LMU</td>\n",
       "      <td>NA</td>\n",
       "      <td>NaN</td>\n",
       "      <td>NaN</td>\n",
       "      <td>No Damage</td>\n",
       "      <td>No Deck/Porch</td>\n",
       "      <td>Masonry/Concrete</td>\n",
       "      <td>NaN</td>\n",
       "      <td>...</td>\n",
       "      <td>NaN</td>\n",
       "      <td>Commercial Building Single Story</td>\n",
       "      <td>Mesh Screen &lt;= 1/8\"</td>\n",
       "      <td>Single Pane</td>\n",
       "      <td>NaN</td>\n",
       "      <td>POINT (-120.83417 39.92363)</td>\n",
       "      <td>NaN</td>\n",
       "      <td>2.38151</td>\n",
       "      <td>3949</td>\n",
       "      <td>0</td>\n",
       "    </tr>\n",
       "    <tr>\n",
       "      <td>2</td>\n",
       "      <td>NaN</td>\n",
       "      <td>NaN</td>\n",
       "      <td>LMU</td>\n",
       "      <td>NA</td>\n",
       "      <td>NaN</td>\n",
       "      <td>NaN</td>\n",
       "      <td>No Damage</td>\n",
       "      <td>No Deck/Porch</td>\n",
       "      <td>Masonry/Concrete</td>\n",
       "      <td>NaN</td>\n",
       "      <td>...</td>\n",
       "      <td>NaN</td>\n",
       "      <td>Single Family Residence Multi Story</td>\n",
       "      <td>Mesh Screen &gt; 1/8\"</td>\n",
       "      <td>Multi Pane</td>\n",
       "      <td>NaN</td>\n",
       "      <td>POINT (-120.85595 39.91694)</td>\n",
       "      <td>NaN</td>\n",
       "      <td>4.94472</td>\n",
       "      <td>2226</td>\n",
       "      <td>0</td>\n",
       "    </tr>\n",
       "    <tr>\n",
       "      <td>3</td>\n",
       "      <td>NaN</td>\n",
       "      <td>NaN</td>\n",
       "      <td>LMU</td>\n",
       "      <td>NA</td>\n",
       "      <td>NaN</td>\n",
       "      <td>NaN</td>\n",
       "      <td>No Damage</td>\n",
       "      <td>Wood</td>\n",
       "      <td>No Deck/Porch</td>\n",
       "      <td>NaN</td>\n",
       "      <td>...</td>\n",
       "      <td>NaN</td>\n",
       "      <td>Single Family Residence Multi Story</td>\n",
       "      <td>Mesh Screen &lt;= 1/8\"</td>\n",
       "      <td>Multi Pane</td>\n",
       "      <td>NaN</td>\n",
       "      <td>POINT (-120.85713 39.91916)</td>\n",
       "      <td>NaN</td>\n",
       "      <td>3.37111</td>\n",
       "      <td>8646</td>\n",
       "      <td>0</td>\n",
       "    </tr>\n",
       "    <tr>\n",
       "      <td>4</td>\n",
       "      <td>NaN</td>\n",
       "      <td>NaN</td>\n",
       "      <td>LMU</td>\n",
       "      <td>NA</td>\n",
       "      <td>NaN</td>\n",
       "      <td>NaN</td>\n",
       "      <td>No Damage</td>\n",
       "      <td>No Deck/Porch</td>\n",
       "      <td>Wood</td>\n",
       "      <td>NaN</td>\n",
       "      <td>...</td>\n",
       "      <td>NaN</td>\n",
       "      <td>Utility Misc Structure</td>\n",
       "      <td>No Vents</td>\n",
       "      <td>Multi Pane</td>\n",
       "      <td>NaN</td>\n",
       "      <td>POINT (-120.85718 39.91940)</td>\n",
       "      <td>NaN</td>\n",
       "      <td>3.37111</td>\n",
       "      <td>8646</td>\n",
       "      <td>0</td>\n",
       "    </tr>\n",
       "  </tbody>\n",
       "</table>\n",
       "<p>5 rows × 42 columns</p>\n",
       "</div>"
      ],
      "text/plain": [
       "   APN AerialRevi CALFIREUNI CITY CREATEDDAT County_Sit     DAMAGE  \\\n",
       "0  NaN        NaN        LMU   NA        NaN        NaN  No Damage   \n",
       "1  NaN        NaN        LMU   NA        NaN        NaN  No Damage   \n",
       "2  NaN        NaN        LMU   NA        NaN        NaN  No Damage   \n",
       "3  NaN        NaN        LMU   NA        NaN        NaN  No Damage   \n",
       "4  NaN        NaN        LMU   NA        NaN        NaN  No Damage   \n",
       "\n",
       "      DECKPORCHE        DECKPORCHO DINS_Damag  ... STRUCTUREC  \\\n",
       "0  No Deck/Porch  Masonry/Concrete        NaN  ...        NaN   \n",
       "1  No Deck/Porch  Masonry/Concrete        NaN  ...        NaN   \n",
       "2  No Deck/Porch  Masonry/Concrete        NaN  ...        NaN   \n",
       "3           Wood     No Deck/Porch        NaN  ...        NaN   \n",
       "4  No Deck/Porch              Wood        NaN  ...        NaN   \n",
       "\n",
       "                            STRUCTURET           VENTSCREEN   WINDOWPANE  \\\n",
       "0     Commercial Building Single Story  Mesh Screen <= 1/8\"  Single Pane   \n",
       "1     Commercial Building Single Story  Mesh Screen <= 1/8\"  Single Pane   \n",
       "2  Single Family Residence Multi Story   Mesh Screen > 1/8\"   Multi Pane   \n",
       "3  Single Family Residence Multi Story  Mesh Screen <= 1/8\"   Multi Pane   \n",
       "4               Utility Misc Structure             No Vents   Multi Pane   \n",
       "\n",
       "  ZIPCODE                     geometry slp      str   whp  damageRatio  \n",
       "0     NaN  POINT (-120.83429 39.92372) NaN  2.38151  3949            0  \n",
       "1     NaN  POINT (-120.83417 39.92363) NaN  2.38151  3949            0  \n",
       "2     NaN  POINT (-120.85595 39.91694) NaN  4.94472  2226            0  \n",
       "3     NaN  POINT (-120.85713 39.91916) NaN  3.37111  8646            0  \n",
       "4     NaN  POINT (-120.85718 39.91940) NaN  3.37111  8646            0  \n",
       "\n",
       "[5 rows x 42 columns]"
      ]
     },
     "execution_count": 218,
     "metadata": {},
     "output_type": "execute_result"
    }
   ],
   "source": [
    "dins.head()"
   ]
  },
  {
   "cell_type": "code",
   "execution_count": 215,
   "metadata": {},
   "outputs": [],
   "source": [
    "dins['damageRatio'] = 0\n",
    "dins.at[dins['DAMAGE'] == 'No Damage', 'damageRatio'] = 0\n",
    "dins.at[dins['DAMAGE'] == 'Affected (1-9%)', 'damageRatio'] = 9\n",
    "dins.at[dins['DAMAGE'] == 'Minor (10-25%)', 'damageRatio'] = 25\n",
    "dins.at[dins['DAMAGE'] == 'Major (26-50%)', 'damageRatio'] = 50\n",
    "dins.at[dins['DAMAGE'] == 'Destroyed (>50%)', 'damageRatio'] = 100"
   ]
  },
  {
   "cell_type": "code",
   "execution_count": 216,
   "metadata": {},
   "outputs": [
    {
     "data": {
      "text/plain": [
       "(array([ 0,  1,  2,  3,  4,  5,  6,  7,  8,  9, 10, 11, 12, 13, 14, 15]),\n",
       " <a list of 16 Text major ticklabel objects>)"
      ]
     },
     "execution_count": 216,
     "metadata": {},
     "output_type": "execute_result"
    },
    {
     "data": {
      "image/png": "[encoded data removed]",
      "text/plain": [
       "<Figure size 432x288 with 1 Axes>"
      ]
     },
     "metadata": {
      "needs_background": "light"
     },
     "output_type": "display_data"
    }
   ],
   "source": [
    "#damage ratio for different types of structures\n",
    "ax = sns.barplot(x='STRUCTURET', y=\"damageRatio\", data=dins)#, order=[\"No Damage\", \"Affected (1-9%)\", \"Minor (10-25%)\", \"Major (26-50%)\", \"Destroyed (>50%)\"])\n",
    "ax.set(ylim=(0, 150))\n",
    "plt.xticks(rotation=90)"
   ]
  },
  {
   "cell_type": "code",
   "execution_count": 217,
   "metadata": {
    "scrolled": true
   },
   "outputs": [
    {
     "data": {
      "text/plain": [
       "(array([0, 1, 2, 3, 4]), <a list of 5 Text major ticklabel objects>)"
      ]
     },
     "execution_count": 217,
     "metadata": {},
     "output_type": "execute_result"
    },
    {
     "data": {
      "image/png": "[encoded data removed]",
      "text/plain": [
       "<Figure size 432x288 with 1 Axes>"
      ]
     },
     "metadata": {
      "needs_background": "light"
     },
     "output_type": "display_data"
    }
   ],
   "source": [
    "# comparing damage ratio for a single familyt versus versus structure densitty\n",
    "ax = sns.barplot(x=\"DAMAGE\", y=\"whp\", data=dins[dins['STRUCTURET']=='Single Family Residence Multi Story'], order=[\"No Damage\", \"Affected (1-9%)\", \"Minor (10-25%)\", \"Major (26-50%)\", \"Destroyed (>50%)\"])\n",
    "ax.set(ylim=(0, 2000))\n",
    "plt.xticks(rotation=90)"
   ]
  }
 ],
 "metadata": {
  "kernelspec": {
   "display_name": "Python 3",
   "language": "python",
   "name": "python3"
  },
  "language_info": {
   "codemirror_mode": {
    "name": "ipython",
    "version": 3
   },
   "file_extension": ".py",
   "mimetype": "text/x-python",
   "name": "python",
   "nbconvert_exporter": "python",
   "pygments_lexer": "ipython3",
   "version": "3.7.4"
  }
 },
 "nbformat": 4,
 "nbformat_minor": 2
}
